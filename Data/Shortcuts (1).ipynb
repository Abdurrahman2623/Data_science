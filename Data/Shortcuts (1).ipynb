{
 "cells": [
  {
   "cell_type": "code",
   "execution_count": 6,
   "id": "3d7c4f7b",
   "metadata": {},
   "outputs": [
    {
     "name": "stdout",
     "output_type": "stream",
     "text": [
      "Abdurrahman Jamiu\n"
     ]
    }
   ],
   "source": [
    "print(\"Abdurrahman Jamiu\")"
   ]
  },
  {
   "cell_type": "raw",
   "id": "f6047fc8",
   "metadata": {},
   "source": [
    "ctrl+enter -> Execute/run the cell\n",
    "shift+enter -> Execute/run the cell\n",
    "esc+a -> to add a cell above the current cell\n",
    "esc+b -> to add a vell below the current cell\n",
    "esc+d+d -> to delete the cell"
   ]
  }
 ],
 "metadata": {
  "kernelspec": {
   "display_name": "Python 3 (ipykernel)",
   "language": "python",
   "name": "python3"
  },
  "language_info": {
   "codemirror_mode": {
    "name": "ipython",
    "version": 3
   },
   "file_extension": ".py",
   "mimetype": "text/x-python",
   "name": "python",
   "nbconvert_exporter": "python",
   "pygments_lexer": "ipython3",
   "version": "3.11.5"
  }
 },
 "nbformat": 4,
 "nbformat_minor": 5
}
